{
 "cells": [
  {
   "cell_type": "code",
   "execution_count": 1,
   "metadata": {},
   "outputs": [],
   "source": [
    "import json\n",
    "\n",
    "# set the data subset to use\n",
    "subset = 1\n",
    "# load data\n",
    "data = json.load(open('../data/subsets/visdial_1.0_train_'+ str(subset) +'percent_subset.json'))['data']\n",
    "# load questions\n",
    "questions = data['questions']\n",
    "# load answers\n",
    "answers = data['answers']\n",
    "# load history: captions of images and the dialog rounds\n",
    "dialogs = data['dialogs']"
   ]
  },
  {
   "cell_type": "code",
   "execution_count": null,
   "metadata": {},
   "outputs": [],
   "source": [
    "'''Note: While doing the History Graph modeling,\n",
    "Node 0 -> Caption\n",
    "Node 1:11 -> Question-Answer rounds with Question-and-<Answered Answer> Pairs'''\n",
    "\n",
    "# storing the history\n",
    "history = []\n",
    "\n",
    "for index in range(len(dialogs)):\n",
    "    # storing the image caption\n",
    "    caption = dialogs[index]['caption']\n",
    "    # storing each of the dialog rounds\n",
    "    q_and_a = []\n",
    "    # for the dialog rounds\n",
    "    for rounds in range(10):\n",
    "        # question key and the question\n",
    "        question_key = dialogs[index]['dialog'][rounds]['question']\n",
    "        question = questions[question_key]\n",
    "        # answer key and the selected answer\n",
    "        answer_key = dialogs[index]['dialog'][rounds]['answer']\n",
    "        answer = answers[answer_key]\n",
    "        # append to q_and_a: note that the questions and answers have been separated by a \"? \" to mimic the GOG history features structure\n",
    "        q_and_a.append(\"? \".join([question, answer]))\n",
    "    # add the caption to the zero'th position for continuity (doesn't really matter since Graphs preserve the relational structure between the nodes)\n",
    "    q_and_a.insert(0, caption)\n",
    "    # append to history\n",
    "    history.append(q_and_a)\n",
    "\n",
    "# save the history structure for coreference resolution\n",
    "with open('../embeddings/history/'+ str(subset) +'/history.json', 'w') as f:\n",
    "    # indent=2 is not needed but makes the file human-readable\n",
    "    # if the data is nested\n",
    "    json.dump(history, f, indent=2)"
   ]
  },
  {
   "cell_type": "code",
   "execution_count": 2,
   "metadata": {},
   "outputs": [
    {
     "data": {
      "text/plain": [
       "['a sailboat-carrying truck with people in the back on a tree lined road',\n",
       " \"are they pulled back? yes it's inside a phone case made to look like a plastic green shoe\",\n",
       " \"so he's out there with some other fellow surfers maybe? lettuce and carrot shreds\",\n",
       " 'are people walking on the platform? framed photo',\n",
       " 'is the bridge for vehicles or for people to walk over? it is very clean',\n",
       " 'is there any people around pizza? 8 or 9',\n",
       " 'is there toilet paper on a roll? black top, white wheels',\n",
       " 'where would you say this is if you had to guess? there is another blurry giraffe in the background',\n",
       " 'what is the seat color? throwing frisbee',\n",
       " 'are his socks pulled up to his knees? all i see is some hand soap',\n",
       " 'is this professional or amateur photo? black top, white wheels']"
      ]
     },
     "execution_count": 2,
     "metadata": {},
     "output_type": "execute_result"
    }
   ],
   "source": [
    "import json\n",
    "\n",
    "# set the data subset to use\n",
    "subset = 1\n",
    "\n",
    "'''Load the saved history structure'''\n",
    "with open('../embeddings/history/'+ str(subset) +'/history.json', 'r') as f:\n",
    "    history = json.load(f)\n",
    "\n",
    "# example of a history entry\n",
    "history[0]\n"
   ]
  },
  {
   "cell_type": "code",
   "execution_count": 4,
   "metadata": {},
   "outputs": [
    {
     "data": {
      "text/plain": [
       "True"
      ]
     },
     "execution_count": 4,
     "metadata": {},
     "output_type": "execute_result"
    }
   ],
   "source": [
    "import neuralcoref\n",
    "import spacy\n",
    "\n",
    "# Load the Spacy model and add neural coref to SpaCy's pipe\n",
    "nlp = spacy.load('en')\n",
    "neuralcoref.add_to_pipe(nlp)\n",
    "\n",
    "'''Takes two strings and returns a boolean value indicating whether they are coreferent or not\n",
    "    Method: Uses the neuralcoref library to compute the coref_scores for the document containing the two strings\n",
    "            doc._.coref_scores is a dictionary with keys as the coreferent entities and a dict of all the coreferent entities and their scores as the values\n",
    "            Get a list of all values in this dict_list that are positive:\n",
    "                Return true if among these, doc._.coref_scores.keys() and doc._.coref_score entities are not in the same strings''' \n",
    "\n",
    "def is_coreferent(string1, string2):\n",
    "    # get the document\n",
    "    doc = nlp(string1 + \" \" + string2)\n",
    "    # get the coref_scores\n",
    "    coref_scores = doc._.coref_scores\n",
    "    # get the list of all values in this dict_list that are positive\n",
    "    for keys, values in coref_scores.items():\n",
    "        for key, value in values.items():\n",
    "            if value > 0:\n",
    "                # check if the first element is from set 1 and third is from set 2 or vice versa\n",
    "                if (keys.text in string1 and key.text in string2) or (keys.text in string2 and key.text in string1):\n",
    "                    return True\n",
    "\n",
    "# is_coreferent(history[0][0], history[0][1])\n",
    "is_coreferent(\"My mother's name is Sanchita.\", \"She likes my home-cooked food.\")"
   ]
  },
  {
   "cell_type": "code",
   "execution_count": null,
   "metadata": {},
   "outputs": [],
   "source": [
    "'''Loop through all history entries and compute the edge list and the adj list for each history entry'''\n",
    "from tqdm import tqdm\n",
    "\n",
    "edge_list = [] # initialize the edge list for all history entries\n",
    "for entry in tqdm(history):\n",
    "    edge_list_entry = [] # initialize the edge list for each history entry\n",
    "    compare_list = [entry[0]] # initialize the compare list for each history entry initialized with the caption\n",
    "    for index in entry[1:]:\n",
    "        for compare in compare_list:\n",
    "            if is_coreferent(index, compare):\n",
    "                # an edge between two nodes is indicated by both (0, 1) and (1, 0) since the graph is undirected\n",
    "                edge_list_entry.append((entry.index(index), entry.index(compare))) \n",
    "                edge_list_entry.append((entry.index(compare), entry.index(index))) \n",
    "        compare_list.append(index)\n",
    "    edge_list.append(edge_list_entry)\n",
    "\n",
    "\n",
    "with open('../embeddings/history/'+ str(subset) +'/edge_list.json', 'w') as f:\n",
    "    # indent=2 is not needed but makes the file human-readable\n",
    "    # if the data is nested\n",
    "    json.dump(edge_list, f)\n",
    "\n",
    "adj_list = []\n",
    "for element in tqdm(edge_list):\n",
    "    # size here is 11 since there are always 11 nodes in each history entry\n",
    "    size = 11\n",
    "    # initialize adjacency list\n",
    "    adj_list_element = [[0 for i in range(size)] for j in range(size)]\n",
    "    # add edges to the adjacency list\n",
    "    if len(element) != 0:\n",
    "        for row, col in element:\n",
    "            adj_list_element[row][col] = 1 # also an undirected edge since the edge list has both (0, 1) and (1, 0)\n",
    "    # add the adjacency list to the list of adjacency matrices\n",
    "    adj_list.append(adj_list_element)\n",
    "\n",
    "with open('../embeddings/history/'+ str(subset) +'/adj_list.json', 'w') as f:\n",
    "    # indent=2 is not needed but makes the file human-readable\n",
    "    # if the data is nested\n",
    "    json.dump(adj_list, f)"
   ]
  },
  {
   "cell_type": "code",
   "execution_count": 5,
   "metadata": {},
   "outputs": [
    {
     "name": "stdout",
     "output_type": "stream",
     "text": [
      "[[1, 0], [0, 1], [2, 1], [1, 2], [3, 1], [1, 3], [4, 0], [0, 4], [4, 1], [1, 4], [4, 2], [2, 4], [4, 3], [3, 4], [5, 1], [1, 5], [5, 4], [4, 5], [6, 1], [1, 6], [6, 4], [4, 6], [7, 2], [2, 7], [9, 1], [1, 9], [9, 2], [2, 9], [9, 4], [4, 9], [9, 7], [7, 9], [10, 1], [1, 10], [10, 4], [4, 10], [10, 6], [6, 10], [10, 7], [7, 10], [10, 9], [9, 10]]\n"
     ]
    },
    {
     "data": {
      "text/plain": [
       "[[0, 1, 0, 0, 1, 0, 0, 0, 0, 0, 0],\n",
       " [1, 0, 1, 1, 1, 1, 1, 0, 0, 1, 1],\n",
       " [0, 1, 0, 0, 1, 0, 0, 1, 0, 1, 0],\n",
       " [0, 1, 0, 0, 1, 0, 0, 0, 0, 0, 0],\n",
       " [1, 1, 1, 1, 0, 1, 1, 0, 0, 1, 1],\n",
       " [0, 1, 0, 0, 1, 0, 0, 0, 0, 0, 0],\n",
       " [0, 1, 0, 0, 1, 0, 0, 0, 0, 0, 1],\n",
       " [0, 0, 1, 0, 0, 0, 0, 0, 0, 1, 1],\n",
       " [0, 0, 0, 0, 0, 0, 0, 0, 0, 0, 0],\n",
       " [0, 1, 1, 0, 1, 0, 0, 1, 0, 0, 1],\n",
       " [0, 1, 0, 0, 1, 0, 1, 1, 0, 1, 0]]"
      ]
     },
     "execution_count": 5,
     "metadata": {},
     "output_type": "execute_result"
    }
   ],
   "source": [
    "import json\n",
    "\n",
    "# set the data subset to use\n",
    "subset = 1\n",
    "\n",
    "'''Displaying the first edge list'''\n",
    "with open('../embeddings/history/'+ str(subset) +'/edge_list.json', 'r') as f:\n",
    "    edge_list = json.load(f)\n",
    "\n",
    "# example of an edge list entry\n",
    "print(edge_list[0])\n",
    "\n",
    "'''Displaying the first adjacency matrix'''\n",
    "with open('../embeddings/history/'+ str(subset) +'/adj_list.json', 'r') as f:\n",
    "    adj_list = json.load(f)\n",
    "\n",
    "# example of an adjacency matrix entry\n",
    "adj_list[0]"
   ]
  },
  {
   "cell_type": "code",
   "execution_count": 6,
   "metadata": {},
   "outputs": [
    {
     "name": "stdout",
     "output_type": "stream",
     "text": [
      "Loading Glove-6b-300d Model:\n",
      "Done. Glove-6b-300d with a vocabulary of 399998 words was loaded!\n"
     ]
    }
   ],
   "source": [
    "import pandas as pd\n",
    "\n",
    "def load_glove_model(glove_file):\n",
    "    readable_name = \"-\".join(glove_file.rstrip('.txt').split('/')[-1].split(\".\")).capitalize()\n",
    "    print(f\"Loading {readable_name} Model:\")\n",
    "    df = pd.read_csv(glove_file, sep=\" \", quoting=3, header=None, index_col=0)\n",
    "    glove_model = {key: val.values for key, val in df.T.items()}\n",
    "    print(f\"Done. {readable_name} with a vocabulary of {len(glove_model)} words was loaded!\")\n",
    "    return glove_model\n",
    "\n",
    "glove_6b_300 = load_glove_model('../embeddings/glove/glove.6B.300d.txt')"
   ]
  },
  {
   "cell_type": "code",
   "execution_count": 7,
   "metadata": {},
   "outputs": [
    {
     "data": {
      "text/plain": [
       "torch.Size([300])"
      ]
     },
     "execution_count": 7,
     "metadata": {},
     "output_type": "execute_result"
    }
   ],
   "source": [
    "'''Tokenize a sentence using a glove model, pass it through an LSTm and return the last LSTM hidden state'''\n",
    "from nltk.tokenize import RegexpTokenizer\n",
    "import numpy as np\n",
    "import torch\n",
    "import torch.nn as nn\n",
    "import torch.nn.functional as F\n",
    "\n",
    "\n",
    "def sentence_LSTM(glove_model, sentence):\n",
    "    # tokenize the sentence\n",
    "    tokenizer = RegexpTokenizer(r'\\w+')  # to remove punctuations\n",
    "    tokenized_sentence = tokenizer.tokenize(sentence.lower())\n",
    "\n",
    "    # get the glove embedding for each word in the sentence\n",
    "    glove_embeddings = []\n",
    "    for word in tokenized_sentence:\n",
    "        if word in glove_model.keys():\n",
    "            glove_embeddings.append(glove_model[word])\n",
    "        else:\n",
    "            glove_embeddings.append(glove_model['unk'])\n",
    "\n",
    "    # convert the glove embeddings to a numpy array\n",
    "    glove_embeddings = np.array(glove_embeddings)\n",
    "    # convert the glove embeddings to a tensor\n",
    "    glove_embeddings = torch.tensor(glove_embeddings).float()\n",
    "\n",
    "    # pass the glove embeddings through an LSTM\n",
    "    # https://pytorch.org/docs/stable/generated/torch.nn.LSTM.html\n",
    "    lstm = nn.LSTM(input_size=300, hidden_size=300,\n",
    "                   num_layers=1, batch_first=True)\n",
    "    lstm_out, (h_n, c_n) = lstm(\n",
    "        glove_embeddings.view(1, len(tokenized_sentence), 300))\n",
    "\n",
    "    # return the last hidden state\n",
    "    return h_n.squeeze()\n",
    "\n",
    "'''Testing LSTM hidden state output'''\n",
    "sentence_LSTM(glove_6b_300, \"What is the color of the shirt?\").shape\n"
   ]
  },
  {
   "cell_type": "code",
   "execution_count": 8,
   "metadata": {},
   "outputs": [
    {
     "name": "stderr",
     "output_type": "stream",
     "text": [
      "100%|██████████| 1233/1233 [01:17<00:00, 15.99it/s]\n"
     ]
    }
   ],
   "source": [
    "from tqdm import tqdm\n",
    "import pickle\n",
    "\n",
    "history_LSTM = []\n",
    "'''Each entry in the History LSTM contains a list of the LSTM hidden state for each history node entry of a round of dialog'''\n",
    "for entry in tqdm(history):\n",
    "    history_LSTM.append(torch.tensor(np.array([sentence_LSTM(glove_6b_300, index).detach().numpy() for index in entry])))\n",
    "\n",
    "# save the history_LSTM in a pickle file\n",
    "with open('../embeddings/history/'+ str(subset) +'/history_LSTM.pkl', 'wb') as f:\n",
    "    pickle.dump(history_LSTM, f)"
   ]
  },
  {
   "cell_type": "code",
   "execution_count": 9,
   "metadata": {},
   "outputs": [
    {
     "data": {
      "text/plain": [
       "torch.Size([11, 300])"
      ]
     },
     "execution_count": 9,
     "metadata": {},
     "output_type": "execute_result"
    }
   ],
   "source": [
    "history_LSTM[0].shape"
   ]
  },
  {
   "cell_type": "code",
   "execution_count": 1,
   "metadata": {},
   "outputs": [],
   "source": [
    "import json\n",
    "import pickle\n",
    "\n",
    "# set the subset\n",
    "subset = 1\n",
    "\n",
    "'''Load the edge list'''\n",
    "with open('../embeddings/history/'+ str(subset) +'/edge_list.json', 'r') as f:\n",
    "    edge_list = json.load(f)\n",
    "\n",
    "'''Load the adjacency matrix'''\n",
    "with open('../embeddings/history/'+ str(subset) +'/adj_list.json', 'r') as f:\n",
    "    adj_list = json.load(f)\n",
    "\n",
    "'''Load the history_LSTM'''\n",
    "with open('../embeddings/history/'+ str(subset) +'/history_LSTM.pkl', 'rb') as f:\n",
    "    history_LSTM = pickle.load(f)"
   ]
  },
  {
   "cell_type": "code",
   "execution_count": 3,
   "metadata": {},
   "outputs": [
    {
     "name": "stderr",
     "output_type": "stream",
     "text": [
      "100%|██████████| 1233/1233 [00:00<00:00, 13138.97it/s]\n"
     ]
    }
   ],
   "source": [
    "'''Intialize the graph with pytorch geometric'''\n",
    "import torch\n",
    "import numpy as np\n",
    "from torch_geometric.data import Data\n",
    "from torch_geometric.loader import DataLoader\n",
    "from tqdm import tqdm\n",
    "\n",
    "'''Create a list of Data objects for each question where:\n",
    "    - x is the history_LSTM\n",
    "    Note: Each history_LSTM is a list of the LSTM hidden states for each history node entry of a round of dialog\n",
    "    - edge_index is the edge list where they are contiguous'''\n",
    "\n",
    "history_graphs = []\n",
    "for i in tqdm(range(len(history_LSTM))):\n",
    "    history_graphs.append(Data(x=torch.FloatTensor(np.array(history_LSTM[i])),\n",
    "                        edge_index=torch.LongTensor(np.array(edge_list[i])).t().contiguous()))\n",
    "\n",
    "'''Save the Data objects to a file'''\n",
    "import pickle\n",
    "\n",
    "with open('../embeddings/history/'+ str(subset) +'/history_graphs.pkl', 'wb') as f:\n",
    "    pickle.dump(history_graphs, f)"
   ]
  },
  {
   "cell_type": "code",
   "execution_count": 13,
   "metadata": {},
   "outputs": [
    {
     "data": {
      "text/plain": [
       "AttrView(store=Data(x=[11, 300], edge_index=[2, 42]), attr=DataTensorAttr(group_name=None, attr_name=<FieldStatus.UNSET: 1>, index=<FieldStatus.UNSET: 1>))"
      ]
     },
     "execution_count": 13,
     "metadata": {},
     "output_type": "execute_result"
    }
   ],
   "source": [
    "import pickle\n",
    "\n",
    "# load the history_graphs\n",
    "with open('../embeddings/history/'+ str(subset) +'/history_graphs.pkl', 'rb') as f:\n",
    "    history_graphs = pickle.load(f)\n",
    "\n",
    "history_graphs[0].view()"
   ]
  },
  {
   "cell_type": "code",
   "execution_count": 6,
   "metadata": {},
   "outputs": [
    {
     "data": {
      "image/png": "[encoded data removed]",
      "text/plain": [
       "<Figure size 640x480 with 1 Axes>"
      ]
     },
     "metadata": {},
     "output_type": "display_data"
    },
    {
     "data": {
      "text/plain": [
       "<Figure size 400x400 with 0 Axes>"
      ]
     },
     "metadata": {},
     "output_type": "display_data"
    }
   ],
   "source": [
    "'''Visualize the first history graph'''\n",
    "from torch_geometric.utils import to_networkx\n",
    "import networkx as nx\n",
    "import matplotlib.pyplot as plt\n",
    "\n",
    "# convert a pytorch geometric graph to a networkx graph\n",
    "def visualize_graph(graph):\n",
    "    G = to_networkx(graph)\n",
    "    # initialize the figure and axes | Note: This somehow gets around the \"TypeError: '_AxesStack' object is not callable\"\n",
    "    fig, ax = plt.subplots() \n",
    "    # draw the graph\n",
    "    nx.draw(G, ax=ax, with_labels=True)\n",
    "    # set the figure size 4x4\n",
    "    plt.figure(figsize=(4, 4))\n",
    "\n",
    "visualize_graph(history_graphs[0])"
   ]
  },
  {
   "cell_type": "code",
   "execution_count": 7,
   "metadata": {},
   "outputs": [],
   "source": [
    "# Progress bar\n",
    "from tqdm.notebook import tqdm\n",
    "\n",
    "# PyTorch\n",
    "import torch\n",
    "import torch.nn as nn\n",
    "import torch.nn.functional as F\n",
    "import torch.utils.data as data\n",
    "\n",
    "# Torchvision\n",
    "from torchvision import transforms\n",
    "# PyTorch Lightning\n",
    "import pytorch_lightning as pl\n",
    "\n",
    "\n",
    "class GATLayer(nn.Module):\n",
    "\n",
    "    def __init__(self, c_in, c_out, num_heads=1, concat_heads=True, alpha=0.2):\n",
    "        \"\"\"\n",
    "        Inputs:\n",
    "            c_in - Dimensionality of input features\n",
    "            c_out - Dimensionality of output features\n",
    "            num_heads - Number of heads, i.e. attention mechanisms to apply in parallel. The\n",
    "                        output features are equally split up over the heads if concat_heads=True.\n",
    "            concat_heads - If True, the output of the different heads is concatenated instead of averaged.\n",
    "            alpha - Negative slope of the LeakyReLU activation.\n",
    "        \"\"\"\n",
    "        super().__init__()\n",
    "        self.num_heads = num_heads\n",
    "        self.concat_heads = concat_heads\n",
    "        if self.concat_heads:\n",
    "            assert c_out % num_heads == 0, \"Number of output features must be a multiple of the count of heads.\"\n",
    "            c_out = c_out // num_heads\n",
    "\n",
    "        # Sub-modules and parameters needed in the layer\n",
    "        self.projection = nn.Linear(c_in, c_out * num_heads)\n",
    "        self.a = nn.Parameter(torch.Tensor(\n",
    "            num_heads, 2 * c_out))  # One per head\n",
    "        self.leakyrelu = nn.LeakyReLU(alpha)\n",
    "\n",
    "        # Initialization from the original implementation\n",
    "        nn.init.xavier_uniform_(self.projection.weight.data, gain=1.414)\n",
    "        nn.init.xavier_uniform_(self.a.data, gain=1.414)\n",
    "\n",
    "    def forward(self, node_feats, adj_matrix, print_attn_probs=False):\n",
    "        \"\"\"\n",
    "        Inputs:\n",
    "            node_feats - Input features of the node. Shape: [batch_size, c_in]\n",
    "            adj_matrix - Adjacency matrix including self-connections. Shape: [batch_size, num_nodes, num_nodes]\n",
    "            print_attn_probs - If True, the attention weights are printed during the forward pass (for debugging purposes)\n",
    "        \"\"\"\n",
    "        batch_size, num_nodes = node_feats.size(0), node_feats.size(1)\n",
    "\n",
    "        # Apply linear layer and sort nodes by head\n",
    "        node_feats = self.projection(node_feats)\n",
    "        node_feats = node_feats.view(batch_size, num_nodes, self.num_heads, -1)\n",
    "\n",
    "        # We need to calculate the attention logits for every edge in the adjacency matrix\n",
    "        # Doing this on all possible combinations of nodes is very expensive\n",
    "        # => Create a tensor of [W*h_i||W*h_j] with i and j being the indices of all edges\n",
    "        # Returns indices where the adjacency matrix is not 0 => edges\n",
    "        edges = adj_matrix.nonzero(as_tuple=False)\n",
    "        node_feats_flat = node_feats.view(\n",
    "            batch_size * num_nodes, self.num_heads, -1)\n",
    "        edge_indices_row = edges[:, 0] * num_nodes + edges[:, 1]\n",
    "        edge_indices_col = edges[:, 0] * num_nodes + edges[:, 2]\n",
    "        a_input = torch.cat([\n",
    "            torch.index_select(input=node_feats_flat,\n",
    "                               index=edge_indices_row, dim=0),\n",
    "            torch.index_select(input=node_feats_flat,\n",
    "                               index=edge_indices_col, dim=0)\n",
    "        ], dim=-1)  # Index select returns a tensor with node_feats_flat being indexed at the desired positions along dim=0\n",
    "\n",
    "        # Calculate attention MLP output (independent for each head)\n",
    "        attn_logits = torch.einsum('bhc,hc->bh', a_input, self.a)\n",
    "        attn_logits = self.leakyrelu(attn_logits)\n",
    "\n",
    "        # Map list of attention values back into a matrix\n",
    "        attn_matrix = attn_logits.new_zeros(\n",
    "            adj_matrix.shape+(self.num_heads,)).fill_(-9e15)\n",
    "        attn_matrix[adj_matrix[..., None].repeat(\n",
    "            1, 1, 1, self.num_heads) == 1] = attn_logits.reshape(-1)\n",
    "\n",
    "        # Weighted average of attention\n",
    "        attn_probs = F.softmax(attn_matrix, dim=2)\n",
    "        if print_attn_probs:\n",
    "            print(\"Attention probs\\n\", attn_probs.permute(0, 3, 1, 2))\n",
    "        node_feats = torch.einsum('bijh,bjhc->bihc', attn_probs, node_feats)\n",
    "\n",
    "        # If heads should be concatenated, we can do this by reshaping. Otherwise, take mean\n",
    "        if self.concat_heads:\n",
    "            node_feats = node_feats.reshape(batch_size, num_nodes, -1)\n",
    "        else:\n",
    "            node_feats = node_feats.mean(dim=2)\n",
    "\n",
    "        return node_feats"
   ]
  },
  {
   "cell_type": "code",
   "execution_count": 14,
   "metadata": {},
   "outputs": [
    {
     "name": "stdout",
     "output_type": "stream",
     "text": [
      "torch.Size([11, 300])\n",
      "torch.Size([11, 512])\n"
     ]
    }
   ],
   "source": [
    "'''Initialize the GAT layer with:\n",
    "- input dimension of 300 (the dimensionality of the node features)\n",
    "- output dimension of 512 (the dimensionality of the output features)\n",
    "- 4 attention heads\n",
    "- attention heads are not concatenated\n",
    "- alpha is set to 0.2\n",
    "Note: The features here are set from the GoG Paper'''\n",
    "\n",
    "gat_layer = GATLayer(c_in=300, c_out=512, num_heads=4, concat_heads=False, alpha=0.2)\n",
    "# print(history_graphs[0].x.shape)\n",
    "# print(torch.tensor(adj_list[0]).shape)\n",
    "\n",
    "# testing the GAT layer with the first history graph\n",
    "with torch.no_grad():    \n",
    "    # note that we have to unsqueeze the node features to fit the GAT input shape\n",
    "    out_feats = gat_layer(history_graphs[0].x.unsqueeze(0), torch.tensor([adj_list[0]]), print_attn_probs=False)\n",
    "    \n",
    "print(history_graphs[0].x.squeeze().shape)\n",
    "print(out_feats.squeeze().shape)\n"
   ]
  },
  {
   "cell_type": "code",
   "execution_count": 15,
   "metadata": {},
   "outputs": [
    {
     "name": "stderr",
     "output_type": "stream",
     "text": [
      "100%|██████████| 1233/1233 [00:00<00:00, 1363.74it/s]\n"
     ]
    }
   ],
   "source": [
    "import torch\n",
    "from torch_geometric.data import Data\n",
    "from torch_geometric.loader import DataLoader\n",
    "from tqdm import tqdm\n",
    "\n",
    "'''Do this for all History Graphs and save it to the History Graph Attention List'''\n",
    "history_gat = history_graphs.copy()\n",
    "for i in tqdm(range(len(history_graphs))):\n",
    "    with torch.no_grad():\n",
    "        out = gat_layer(history_graphs[i].x.unsqueeze(0), torch.tensor([adj_list[i]]), print_attn_probs=False)\n",
    "    history_gat[i].x = out.squeeze()\n",
    "\n",
    "'''Save the History Graph Attention List to a pickle file in the proper directory'''\n",
    "with open('../embeddings/history/'+ str(subset) +'/history_GAT.pkl', 'wb') as f:\n",
    "    pickle.dump(history_gat, f)"
   ]
  },
  {
   "cell_type": "code",
   "execution_count": 63,
   "metadata": {},
   "outputs": [
    {
     "name": "stderr",
     "output_type": "stream",
     "text": [
      "100%|██████████| 1233/1233 [00:01<00:00, 861.13it/s]\n"
     ]
    }
   ],
   "source": [
    "import dgl\n",
    "from dgl.nn import GlobalAttentionPooling\n",
    "\n",
    "# initialize the gate layer\n",
    "gate_nn = torch.nn.Linear(512, 1)\n",
    "# initialize the GlobalAttentionPooling layer\n",
    "gap = GlobalAttentionPooling(gate_nn)\n",
    "\n",
    "'''For each history graph, we need to convert it to a DGL graph and then apply the GlobalAttentionPooling layer'''\n",
    "history_GAP = []\n",
    "\n",
    "for i in tqdm(range(len(history_gat))):\n",
    "    # initialize an empty dgl graph containing 11 nodes\n",
    "    g = dgl.graph(([], []), num_nodes=history_gat[i].num_nodes)\n",
    "    # initialize the node features for the dgl graph where each node has 512 features\n",
    "    g_node_feats = history_gat[i].x\n",
    "    # add the edges to the dgl graph where edges are the edges from the pytorch geometric graph\n",
    "    g.add_edges(history_gat[i].edge_index[0], history_gat[i].edge_index[1])\n",
    "    # apply the GlobalAttentionPooling layer to the dgl graph\n",
    "    out = gap(g, g_node_feats)\n",
    "    # append the output to the history_GAP list\n",
    "    history_GAP.append(out.squeeze())\n",
    "\n",
    "'''Save the History Graph Attention Pooling List to a pickle file in the proper directory'''\n",
    "with open('../embeddings/history/'+ str(subset) +'/history_GAP.pkl', 'wb') as f:\n",
    "    pickle.dump(history_GAP, f)"
   ]
  },
  {
   "cell_type": "code",
   "execution_count": 65,
   "metadata": {},
   "outputs": [],
   "source": [
    "'''Create a DataLoader object to load the Data objects in batches'''\n",
    "history_loader = DataLoader(history_gat, batch_size=32, shuffle=False)\n",
    "\n",
    "with open('../embeddings/history/' + str(subset) + '/history_loader.pkl', 'wb') as f:\n",
    "    pickle.dump(history_loader, f)\n"
   ]
  },
  {
   "cell_type": "code",
   "execution_count": null,
   "metadata": {},
   "outputs": [],
   "source": [
    "'''Also implement the case where there's an edge_attr which is the coreference score'''"
   ]
  },
  {
   "cell_type": "code",
   "execution_count": 23,
   "metadata": {},
   "outputs": [
    {
     "name": "stderr",
     "output_type": "stream",
     "text": [
      "/bigpool/homes/chatterjee/anaconda3/envs/e2ecoref/lib/python3.7/site-packages/torchvision/io/image.py:13: UserWarning: Failed to load image Python extension: /bigpool/homes/chatterjee/anaconda3/envs/e2ecoref/lib/python3.7/site-packages/torchvision/image.so: undefined symbol: _ZN2at4_ops19empty_memory_format4callEN3c108ArrayRefIlEENS2_8optionalINS2_10ScalarTypeEEENS5_INS2_6LayoutEEENS5_INS2_6DeviceEEENS5_IbEENS5_INS2_12MemoryFormatEEE\n",
      "  warn(f\"Failed to load image Python extension: {e}\")\n"
     ]
    },
    {
     "data": {
      "text/html": [
       "<pre style=\"white-space:pre;overflow-x:auto;line-height:normal;font-family:Menlo,'DejaVu Sans Mono',consolas,'Courier New',monospace\">/bigpool/homes/chatterjee/anaconda3/envs/e2ecoref/lib/python3.7/site-packages/rich/live.py:229: UserWarning: \n",
       "install \"ipywidgets\" for Jupyter support\n",
       "  warnings.warn('install \"ipywidgets\" for Jupyter support')\n",
       "</pre>\n"
      ],
      "text/plain": [
       "/bigpool/homes/chatterjee/anaconda3/envs/e2ecoref/lib/python3.7/site-packages/rich/live.py:229: UserWarning: \n",
       "install \"ipywidgets\" for Jupyter support\n",
       "  warnings.warn('install \"ipywidgets\" for Jupyter support')\n"
      ]
     },
     "metadata": {},
     "output_type": "display_data"
    },
    {
     "data": {
      "application/vnd.jupyter.widget-view+json": {
       "model_id": "a2ee1629ab28482bb9dcfd7fdedb81b1",
       "version_major": 2,
       "version_minor": 0
      },
      "text/plain": [
       "Output()"
      ]
     },
     "metadata": {},
     "output_type": "display_data"
    },
    {
     "data": {
      "text/html": [
       "<pre style=\"white-space:pre;overflow-x:auto;line-height:normal;font-family:Menlo,'DejaVu Sans Mono',consolas,'Courier New',monospace\"></pre>\n"
      ],
      "text/plain": []
     },
     "metadata": {},
     "output_type": "display_data"
    },
    {
     "data": {
      "text/html": [
       "<pre style=\"white-space:pre;overflow-x:auto;line-height:normal;font-family:Menlo,'DejaVu Sans Mono',consolas,'Courier New',monospace\">\n",
       "</pre>\n"
      ],
      "text/plain": [
       "\n"
      ]
     },
     "metadata": {},
     "output_type": "display_data"
    },
    {
     "name": "stderr",
     "output_type": "stream",
     "text": [
      "Downloading: 100%|██████████| 414/414 [00:00<00:00, 163kB/s]\n",
      "Downloading: 100%|██████████| 208k/208k [00:00<00:00, 506kB/s]  \n",
      "Downloading: 100%|██████████| 634M/634M [00:12<00:00, 53.8MB/s] \n",
      "Some weights of BertModel were not initialized from the model checkpoint at SpanBERT/spanbert-large-cased and are newly initialized: ['bert.pooler.dense.bias', 'bert.pooler.dense.weight']\n",
      "You should probably TRAIN this model on a down-stream task to be able to use it for predictions and inference.\n"
     ]
    }
   ],
   "source": [
    "'''AllenNLP Coreference Resolution'''\n",
    "from allennlp.predictors.predictor import Predictor\n",
    "\n",
    "'''download the model'''\n",
    "predictor = Predictor.from_path(\n",
    "    \"https://storage.googleapis.com/allennlp-public-models/coref-spanbert-large-2021.03.10.tar.gz\")\n"
   ]
  },
  {
   "cell_type": "code",
   "execution_count": 24,
   "metadata": {},
   "outputs": [
    {
     "data": {
      "text/plain": [
       "True"
      ]
     },
     "execution_count": 24,
     "metadata": {},
     "output_type": "execute_result"
    }
   ],
   "source": [
    "'''AllenNLP Coreference Resolution:\n",
    "    Method: Input two sentences and return true or false if they have a coreference using the AllenNLP coreference model'''\n",
    "\n",
    "def coref(text1, text2):\n",
    "    text = text1 + ' ' + text2\n",
    "    prediction = predictor.predict(document=text)\n",
    "    # find corresponding strings from the text and create a cluster entity list\n",
    "    entity_clusters = []\n",
    "    for entity in prediction['clusters']:\n",
    "        entity_cluster = []\n",
    "        for entry in entity:\n",
    "            entity_cluster.append(' '.join(text.split()[entry[0]:entry[1]+1]))\n",
    "        # remove empty strings\n",
    "        entity_cluster = [entry for entry in entity_cluster if entry != '']\n",
    "        entity_clusters.append(entity_cluster)\n",
    "\n",
    "    # if all the entities in a cluster are in the same sentence, then return False (no coreference)\n",
    "    for entity_cluster in entity_clusters:\n",
    "        which_sentence = []\n",
    "        for entity in entity_cluster:\n",
    "            if entity in text1 and entity not in text2:\n",
    "                which_sentence.append(1)\n",
    "            elif entity in text2 and entity not in text1:\n",
    "                which_sentence.append(2)\n",
    "        if len(set(which_sentence)) == 1:\n",
    "            return False\n",
    "    # if all the entities in a cluster are in different sentences, then return True (coreference)\n",
    "    return True\n",
    "\n",
    "\n",
    "coref('This is a picture of a horse and a man standing by a stack of crates.',\n",
    "      'Is the horse brown? Yes, it is.')"
   ]
  },
  {
   "cell_type": "code",
   "execution_count": null,
   "metadata": {},
   "outputs": [],
   "source": [
    "'''Implementation of the e2e-coref model'''\n"
   ]
  }
 ],
 "metadata": {
  "kernelspec": {
   "display_name": "Python 3.9.13 ('gnnVD')",
   "language": "python",
   "name": "python3"
  },
  "language_info": {
   "codemirror_mode": {
    "name": "ipython",
    "version": 3
   },
   "file_extension": ".py",
   "mimetype": "text/x-python",
   "name": "python",
   "nbconvert_exporter": "python",
   "pygments_lexer": "ipython3",
   "version": "3.9.13"
  },
  "orig_nbformat": 4,
  "vscode": {
   "interpreter": {
    "hash": "b0f314d012c094e500b437d772ea9d63f13832a9dbf30d5ab8fe744ae8c413d0"
   }
  }
 },
 "nbformat": 4,
 "nbformat_minor": 2
}
