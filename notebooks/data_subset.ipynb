{
 "cells": [
  {
   "cell_type": "code",
   "execution_count": 1,
   "metadata": {},
   "outputs": [],
   "source": [
    "from os import walk\n",
    "\n",
    "# load the train images and their relative paths\n",
    "coco_train_path = \"../data/coco/train2014/\"\n",
    "coco_train = next(walk(coco_train_path), (None, None, []))[2]  # gives [] if no file\n",
    "coco_train = list(map(lambda orig_string: coco_train_path + orig_string, coco_train)) # add relative path to each file name\n",
    "\n",
    "# load the val images and their relative paths\n",
    "coco_val_path = \"../data/coco/val2014/\"\n",
    "coco_val = next(walk(coco_val_path), (None, None, []))[2]  # gives [] if no file\n",
    "coco_val = list(map(lambda orig_string: coco_val_path + orig_string, coco_val)) # add relative path to each file name"
   ]
  },
  {
   "cell_type": "code",
   "execution_count": 2,
   "metadata": {},
   "outputs": [
    {
     "name": "stderr",
     "output_type": "stream",
     "text": [
      "100%|██████████| 123287/123287 [1:30:19<00:00, 22.75it/s]\n"
     ]
    }
   ],
   "source": [
    "'''For remapping the image names in visdial1.0 train json to the relative paths of the images for my own convenience'''\n",
    "import json\n",
    "from tqdm import tqdm\n",
    "from time import sleep\n",
    "\n",
    "file = json.load(open('../data/v1.0/visdial_1.0_train.json'))\n",
    "\n",
    "'''Remap the images to their relative paths'''\n",
    "for dialog in tqdm(file['data']['dialogs']):  \n",
    "    # stores the relative of each image\n",
    "    # coco_train + coco_val because some images are from train and some from val\n",
    "    file['data']['dialogs'][file['data']['dialogs'].index(dialog)]['image_id'] = [image_id for image_id in coco_train+coco_val if str(dialog['image_id']) in image_id][0]\n",
    "\n",
    "# size of the data subset\n",
    "file['volume'] = 1.0 # 100 percent\n",
    "file['data']['questions'] = [s + '?' for s in file['data']['questions']] # add question mark to each question for GoG format\n",
    "\n",
    "# save the 100% data with relative image paths\n",
    "with open('../data/subsets/visdial_1.0_train_100percent_subset.json', 'w') as outfile:\n",
    "    json.dump(file, outfile)\n",
    "# save the questions to a file\n",
    "with open('../data/subsets/visdial_1.0_train_100percent_subset_questions.txt', mode='wt', encoding='utf-8') as outfile:\n",
    "    outfile.write('\\n'.join(file['data']['questions']))"
   ]
  },
  {
   "cell_type": "code",
   "execution_count": 1,
   "metadata": {},
   "outputs": [],
   "source": [
    "'''For creating the data subsets'''\n",
    "import json\n",
    "\n",
    "data = json.load(open('../data/v1.0/visdial_1.0_train.json'))['data'] # dict_keys(['dialogs', 'answers', 'questions'])\n",
    "dialogs = data['dialogs']\n",
    "answers = data['answers']\n",
    "questions = data['questions']"
   ]
  },
  {
   "cell_type": "code",
   "execution_count": 3,
   "metadata": {},
   "outputs": [],
   "source": [
    "import random\n",
    "\n",
    "random.seed(42)  # for reproducibility\n",
    "\n",
    "'''Change the usage to whatever percentage of the data you want to work upon'''\n",
    "usage = 0.1  # 10% of the data\n",
    "subset = random.sample(dialogs, round(usage*len(dialogs)))  # sample 1% of the data\n",
    "\n",
    "subset_questions = []\n",
    "subset_answers = []\n",
    "\n",
    "for dialog in subset:\n",
    "    for dialog_round in dialog['dialog']:\n",
    "        subset_questions.append(questions[dialog_round['question']])\n",
    "        subset_answers.append(answers[dialog_round['answer']])\n",
    "        subset_answers += map(answers.__getitem__,dialog_round['answer_options'])\n",
    "\n",
    "subset_questions = list(set(subset_questions))\n",
    "subset_answers = list(set(subset_answers))"
   ]
  },
  {
   "cell_type": "code",
   "execution_count": 4,
   "metadata": {},
   "outputs": [
    {
     "name": "stderr",
     "output_type": "stream",
     "text": [
      "100%|██████████| 12329/12329 [28:00:25<00:00,  8.18s/it]  \n"
     ]
    }
   ],
   "source": [
    "from tqdm import tqdm\n",
    "from time import sleep\n",
    "\n",
    "captions = [d['caption'] for d in subset]  # list of captions\n",
    "\n",
    "'''Remap the question, answer, and answer_options indices to the new subset indices\n",
    "Note: Ground truth answers are not remapped, since it indicates the relative order of the ground truth answer from the answer_options for each dialog round'''\n",
    "for dialog in tqdm(subset):  # dict_keys(['image_id', 'caption', 'dialog'])\n",
    "    # stores the relative of each image\n",
    "    # coco_train + coco_val because some images are from train and some from val\n",
    "    image_id = [s for s in coco_train +\n",
    "                coco_val if str(dialog['image_id']) in s][0]\n",
    "    subset[subset.index(dialog)]['image_id'] = image_id\n",
    "\n",
    "    # for each dialog round\n",
    "    for dialog_round in dialog['dialog']:\n",
    "        # remap the answer index to the new subset index\n",
    "        old_answer_value = answers[dialog_round['answer']]\n",
    "        subset[subset.index(dialog)]['dialog'][dialog['dialog'].index(\n",
    "            dialog_round)]['answer'] = subset_answers.index(old_answer_value)\n",
    "\n",
    "        # remap the question index to the new subset index\n",
    "        old_question_value = questions[dialog_round['question']]\n",
    "        subset[subset.index(dialog)]['dialog'][dialog['dialog'].index(\n",
    "            dialog_round)]['question'] = subset_questions.index(old_question_value)\n",
    "\n",
    "        # remap the answer_options indices to the new subset indices\n",
    "        old_answer_options_values = list(\n",
    "            map(answers.__getitem__, dialog_round['answer_options']))\n",
    "        subset[subset.index(dialog)]['dialog'][dialog['dialog'].index(dialog_round)]['answer_options'] = [\n",
    "            subset_answers.index(a) for a in old_answer_options_values]\n",
    "\n",
    "        # nothing to do for the ground truth as indicated above"
   ]
  },
  {
   "cell_type": "code",
   "execution_count": 17,
   "metadata": {},
   "outputs": [],
   "source": [
    "# formatting it like the VisDial v1.0 data\n",
    "subset_data = {'version': 1.0, 'split': 'train subset', 'volume': usage, 'data': {\n",
    "    'dialogs': subset, 'questions': subset_questions, 'answers': subset_answers}}\n",
    "\n",
    "# save the subset_data\n",
    "with open('../data/subsets/visdial_1.0_train_10percent_subset.json', 'w') as outfile:\n",
    "    json.dump(subset_data, outfile)\n",
    "\n",
    "# save the questions in the form of the GoG Paper\n",
    "questions = [question + '?' for question in subset_data['data']['questions']]\n",
    "# save the subset_data\n",
    "with open('../data/subsets/visdial_1.0_train_10percent_subset_questions.txt', mode='wt', encoding='utf-8') as outfile:\n",
    "    outfile.write('\\n'.join(questions))\n"
   ]
  },
  {
   "cell_type": "code",
   "execution_count": 18,
   "metadata": {},
   "outputs": [],
   "source": [
    "# load the original and the two subsets\n",
    "hundred_percent = json.load(open('../data/subsets/visdial_1.0_train_100percent_subset.json'))['data']\n",
    "one_percent = json.load(open('../data/subsets/visdial_1.0_train_1percent_subset.json'))['data']\n",
    "ten_percent = json.load(open('../data/subsets/visdial_1.0_train_10percent_subset.json'))['data']"
   ]
  },
  {
   "cell_type": "code",
   "execution_count": 31,
   "metadata": {},
   "outputs": [
    {
     "name": "stdout",
     "output_type": "stream",
     "text": [
      "Comparison of the whole dataset vs the new ones: \n"
     ]
    },
    {
     "data": {
      "text/html": [
       "<div>\n",
       "<style scoped>\n",
       "    .dataframe tbody tr th:only-of-type {\n",
       "        vertical-align: middle;\n",
       "    }\n",
       "\n",
       "    .dataframe tbody tr th {\n",
       "        vertical-align: top;\n",
       "    }\n",
       "\n",
       "    .dataframe thead th {\n",
       "        text-align: right;\n",
       "    }\n",
       "</style>\n",
       "<table border=\"1\" class=\"dataframe\">\n",
       "  <thead>\n",
       "    <tr style=\"text-align: right;\">\n",
       "      <th></th>\n",
       "      <th>dataset size:</th>\n",
       "      <th>Unique images:</th>\n",
       "      <th>Unique questions</th>\n",
       "      <th>Unique answers</th>\n",
       "    </tr>\n",
       "  </thead>\n",
       "  <tbody>\n",
       "    <tr>\n",
       "      <th>VisDial1.0 Train</th>\n",
       "      <td>123287</td>\n",
       "      <td>123287</td>\n",
       "      <td>376082</td>\n",
       "      <td>337527</td>\n",
       "    </tr>\n",
       "    <tr>\n",
       "      <th>10 percent VisDial1.0 Train</th>\n",
       "      <td>12329</td>\n",
       "      <td>12329</td>\n",
       "      <td>58069</td>\n",
       "      <td>337517</td>\n",
       "    </tr>\n",
       "    <tr>\n",
       "      <th>1 percent VisDial1.0 Train</th>\n",
       "      <td>1233</td>\n",
       "      <td>1233</td>\n",
       "      <td>8402</td>\n",
       "      <td>268020</td>\n",
       "    </tr>\n",
       "  </tbody>\n",
       "</table>\n",
       "</div>"
      ],
      "text/plain": [
       "                             dataset size:  Unique images:  Unique questions  \\\n",
       "VisDial1.0 Train                    123287          123287            376082   \n",
       "10 percent VisDial1.0 Train          12329           12329             58069   \n",
       "1 percent VisDial1.0 Train            1233            1233              8402   \n",
       "\n",
       "                             Unique answers  \n",
       "VisDial1.0 Train                     337527  \n",
       "10 percent VisDial1.0 Train          337517  \n",
       "1 percent VisDial1.0 Train           268020  "
      ]
     },
     "execution_count": 31,
     "metadata": {},
     "output_type": "execute_result"
    }
   ],
   "source": [
    "import pandas as pd\n",
    "print(\"Comparison of the whole dataset vs the new ones: \")\n",
    "comparison = {'dataset size:': [len(hundred_percent['dialogs']), len(ten_percent['dialogs']), len(one_percent['dialogs'])],\n",
    "              'Unique images:': [len(hundred_percent['dialogs']), len(ten_percent['dialogs']), len(one_percent['dialogs'])],\n",
    "              'Unique questions': [len(hundred_percent['questions']), len(ten_percent['questions']), len(one_percent['questions'])],\n",
    "              'Unique answers': [len(hundred_percent['answers']), len(ten_percent['answers']), len(one_percent['answers'])]}\n",
    "# Note that all dialogs have a unique image\n",
    "comparison = pd.DataFrame(data=comparison, index=['VisDial1.0 Train', '10 percent VisDial1.0 Train', '1 percent VisDial1.0 Train'])\n",
    "comparison\n"
   ]
  },
  {
   "cell_type": "code",
   "execution_count": 4,
   "metadata": {},
   "outputs": [],
   "source": [
    "'''Preparing the subsets for davidnvq's visdial code, i.e. making the subset exactly the same as the original VisDial v1.0 data'''\n",
    "import json\n",
    "\n",
    "# all = json.load(open('../data/v1.0/visdial_1.0_train.json'))\n",
    "subset = json.load(open('../data/subsets/visdial_1.0_train_1percent_subset.json'))\n",
    "\n",
    "# delete the last 4 characters of the image_id (.jpg extension) and then extract the last 6 characters\n",
    "# subset['data']['dialogs'][0]['image_id'] = int(subset['data']['dialogs'][0]['image_id'][:-4][-6:])\n",
    "\n",
    "# do this for all dialogs\n",
    "for dialog in subset['data']['dialogs']:\n",
    "    dialog['image_id'] = int(dialog['image_id'][:-4][-6:])\n",
    "\n",
    "# save the subset_data\n",
    "with open('visdial_1.0_train.json', 'w') as outfile:\n",
    "    json.dump(subset, outfile)"
   ]
  }
 ],
 "metadata": {
  "kernelspec": {
   "display_name": "Python 3.9.13 ('gnnVD')",
   "language": "python",
   "name": "python3"
  },
  "language_info": {
   "codemirror_mode": {
    "name": "ipython",
    "version": 3
   },
   "file_extension": ".py",
   "mimetype": "text/x-python",
   "name": "python",
   "nbconvert_exporter": "python",
   "pygments_lexer": "ipython3",
   "version": "3.9.13 | packaged by conda-forge | (main, May 27 2022, 16:58:50) \n[GCC 10.3.0]"
  },
  "orig_nbformat": 4,
  "vscode": {
   "interpreter": {
    "hash": "b0f314d012c094e500b437d772ea9d63f13832a9dbf30d5ab8fe744ae8c413d0"
   }
  }
 },
 "nbformat": 4,
 "nbformat_minor": 2
}
