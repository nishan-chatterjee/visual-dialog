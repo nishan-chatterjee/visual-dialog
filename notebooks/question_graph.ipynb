{
 "cells": [
  {
   "cell_type": "code",
   "execution_count": 60,
   "metadata": {},
   "outputs": [],
   "source": [
    "'''Since all the Dependency Heads, the Dependency Labels, and the Linearized Constituency Trees are generated in batches of 10000,\n",
    "we need to concatenate those files.'''\n",
    "\n",
    "import shutil\n",
    "import glob\n",
    "from natsort import natsorted\n",
    "\n",
    "def concatenate_files(target_files, output_file):\n",
    "    with open(output_file, 'wb') as outfile:\n",
    "        # natsorted is used to sort the files in a natural way\n",
    "        for filename in natsorted(glob.glob(target_files)):\n",
    "            if filename == output_file:\n",
    "                # don't want to copy the output into the output\n",
    "                continue\n",
    "            with open(filename, 'rb') as read_file:\n",
    "                shutil.copyfileobj(read_file, outfile)\n",
    "\n",
    "# set the data subset to use\n",
    "subset = 1\n",
    "\n",
    "# for the dependency heads\n",
    "target_files = '../embeddings/questions/' + str(subset) + '/dependency_heads/*.txt'\n",
    "output_file = '../embeddings/questions/' + str(subset) + '/dependency_heads.txt'\n",
    "concatenate_files(target_files, output_file)\n",
    "\n",
    "# for the dependency labels\n",
    "target_files = '../embeddings/questions/' + str(subset) + '/dependency_labels/*.txt'\n",
    "output_file = '../embeddings/questions/' + str(subset) + '/dependency_labels.txt'\n",
    "concatenate_files(target_files, output_file)\n",
    "\n",
    "# for the linearized constituency trees\n",
    "target_files = '../embeddings/questions/' + str(subset) + '/linearized_constituency_tree/*.txt'\n",
    "output_file = '../embeddings/questions/' + str(subset) + '/linearized_constituency_tree.txt'\n",
    "concatenate_files(target_files, output_file)"
   ]
  },
  {
   "cell_type": "code",
   "execution_count": 1,
   "metadata": {},
   "outputs": [
    {
     "data": {
      "text/plain": [
       "['is bananas next to glass?',\n",
       " 'is he wearing all white?',\n",
       " 'what does pet bed look like?',\n",
       " 'how old is the person holding the kite?',\n",
       " 'what is the age of the men?']"
      ]
     },
     "execution_count": 1,
     "metadata": {},
     "output_type": "execute_result"
    }
   ],
   "source": [
    "'''Here we read the Questions'''\n",
    "# set the data subset to use\n",
    "subset = 1\n",
    "\n",
    "with open('../embeddings/questions/' + str(subset) + '/questions_corrected.txt', 'r') as f:\n",
    "    questions = f.readlines()\n",
    "    questions = [x.strip() for x in questions] \n",
    "    # removes the newlines and the questions since apparently LAL parser doesn't work on all the questions with ? at the end\n",
    "    # only applicable for the 100% dataset\n",
    "    # questions = [x.strip('?\\n') for x in questions] \n",
    "questions[:5]"
   ]
  },
  {
   "cell_type": "code",
   "execution_count": 2,
   "metadata": {},
   "outputs": [
    {
     "data": {
      "text/plain": [
       "[[0, 1, 1, 3, 4, 1],\n",
       " [3, 3, 0, 5, 3, 3],\n",
       " [5, 5, 4, 5, 0, 5, 5],\n",
       " [2, 3, 0, 5, 3, 5, 8, 6, 3],\n",
       " [4, 4, 4, 0, 4, 7, 5, 4]]"
      ]
     },
     "execution_count": 2,
     "metadata": {},
     "output_type": "execute_result"
    }
   ],
   "source": [
    "'''Here we read the Dependency Heads'''\n",
    "from pathlib import Path\n",
    "import ast\n",
    "\n",
    "with open('../embeddings/questions/' + str(subset) + '/dependency_heads_corrected.txt', 'r') as f:\n",
    "    dep_head_list = f.readlines()\n",
    "    dep_head_list = [element.strip() for element in dep_head_list]\n",
    "    dep_head_list = [ast.literal_eval(element) for element in dep_head_list]\n",
    "\n",
    "dep_head_list[:5]"
   ]
  },
  {
   "cell_type": "code",
   "execution_count": 3,
   "metadata": {},
   "outputs": [
    {
     "data": {
      "text/plain": [
       "[['root', 'nsubj', 'advmod', 'prep', 'pobj', 'punct'],\n",
       " ['aux', 'nsubj', 'root', 'det', 'dobj', 'punct'],\n",
       " ['pobj', 'aux', 'dep', 'nsubj', 'root', 'prep', 'punct'],\n",
       " ['advmod', 'dep', 'root', 'det', 'nsubj', 'partmod', 'det', 'dobj', 'punct'],\n",
       " ['nsubj', 'cop', 'det', 'root', 'prep', 'det', 'pobj', 'punct']]"
      ]
     },
     "execution_count": 3,
     "metadata": {},
     "output_type": "execute_result"
    }
   ],
   "source": [
    "'''Similarly, we read the Dependency Labels'''\n",
    "with open('../embeddings/questions/' + str(subset) + '/dependency_labels_corrected.txt', 'r') as f:\n",
    "    dep_label_list = f.readlines()\n",
    "    dep_label_list = [element.strip() for element in dep_label_list]\n",
    "    dep_label_list = [ast.literal_eval(element) for element in dep_label_list]\n",
    "\n",
    "'''Note: Here we probably have to ignore the last label of each sentence, since it is always a punctuation mark and the LAL-Parser doesn't tag relations between punctuation marks.'''\n",
    "dep_label_list[:5]"
   ]
  },
  {
   "cell_type": "code",
   "execution_count": 4,
   "metadata": {},
   "outputs": [
    {
     "data": {
      "text/plain": [
       "([11, 1, 2, 3, 4, 11, 11, 11, 11, 11, 0, 11],\n",
       " ['partmod',\n",
       "  'prep',\n",
       "  'pobj',\n",
       "  'prep',\n",
       "  'pobj',\n",
       "  'punct',\n",
       "  'cop',\n",
       "  'nsubj',\n",
       "  'det',\n",
       "  'nn',\n",
       "  'root',\n",
       "  'punct'],\n",
       " 'parked in front of hydrant, is there an emergency scene?')"
      ]
     },
     "execution_count": 4,
     "metadata": {},
     "output_type": "execute_result"
    }
   ],
   "source": [
    "# was a problem sentence\n",
    "dep_head_list[912], dep_label_list[912], questions[912]"
   ]
  },
  {
   "cell_type": "code",
   "execution_count": 5,
   "metadata": {},
   "outputs": [
    {
     "data": {
      "text/plain": [
       "([0, 1, 1, 3, 4, 1],\n",
       " ['root', 'nsubj', 'advmod', 'prep', 'pobj', 'punct'],\n",
       " 'is banana next to glass?')"
      ]
     },
     "execution_count": 5,
     "metadata": {},
     "output_type": "execute_result"
    }
   ],
   "source": [
    "dep_head_list[0], dep_label_list[0], questions[0]"
   ]
  },
  {
   "cell_type": "code",
   "execution_count": 4,
   "metadata": {},
   "outputs": [
    {
     "name": "stderr",
     "output_type": "stream",
     "text": [
      "100%|██████████| 8402/8402 [00:00<00:00, 104733.26it/s]\n"
     ]
    }
   ],
   "source": [
    "'''Formulate the adjacency list based on the dependency heads and save it to a file'''\n",
    "import json\n",
    "from tqdm import tqdm\n",
    "import numpy as np\n",
    "\n",
    "adj_list = []\n",
    "for element in tqdm(dep_head_list):\n",
    "    adj_list_element = []\n",
    "    for index in element:\n",
    "        adj_list_node = len(element)*[0]\n",
    "        # print(index, adj_list_node, len(element))\n",
    "        '''the index-1 < len(element) needs to be added for the 100% dataset since the the tagging of the ? to the root node is done after the LAL-Parser parsed questions and generated the dependency heads and labels without the questions having a '?' at the end. This is then solved by the stanford parser and the stanford parser parses sentences like 'is it a full-grown elephant?' (example 912) with the root of the sentence being at index 7 which to the LAL-Parser method is out of bounds.''' \n",
    "        if index != 0 and index-1 < len(element):\n",
    "            adj_list_node[index-1] = 1 \n",
    "        adj_list_element.append(adj_list_node)\n",
    "\n",
    "    adj_list.append(adj_list_element)\n",
    "\n",
    "# convert the directed adjacency list to an undirected adjacency list by adding the transpose of the adjacency matrix to the adjacency matrix\n",
    "adj_list = [np.array(element) + np.array(element).T for element in adj_list]\n",
    "# for each adjacency matrix, \n",
    "sym_adj_list = []\n",
    "for a_list in adj_list:\n",
    "    # if elements in a_list are 2, set them to 1\n",
    "    a_list[a_list == 2] = 1\n",
    "    # add the adjacency matrix to the list\n",
    "    sym_adj_list.append(a_list.tolist())\n",
    "\n",
    "with open('../embeddings/questions/' + str(subset) + '/adj_list_corrected.json', 'w') as f:\n",
    "    # indent=2 is not needed but makes the file human-readable\n",
    "    # if the data is nested\n",
    "    json.dump(sym_adj_list, f)"
   ]
  },
  {
   "cell_type": "code",
   "execution_count": 5,
   "metadata": {},
   "outputs": [
    {
     "data": {
      "text/plain": [
       "[[0, 1, 1, 0, 0, 1],\n",
       " [1, 0, 0, 0, 0, 0],\n",
       " [1, 0, 0, 1, 0, 0],\n",
       " [0, 0, 1, 0, 1, 0],\n",
       " [0, 0, 0, 1, 0, 0],\n",
       " [1, 0, 0, 0, 0, 0]]"
      ]
     },
     "execution_count": 5,
     "metadata": {},
     "output_type": "execute_result"
    }
   ],
   "source": [
    "import json\n",
    "\n",
    "'''Displaying the first adjacency matrix'''\n",
    "with open('../embeddings/questions/' + str(subset) + '/adj_list_corrected.json', 'r') as f:\n",
    "    adj_list = json.load(f)\n",
    "\n",
    "adj_list[0]"
   ]
  },
  {
   "cell_type": "code",
   "execution_count": 6,
   "metadata": {},
   "outputs": [],
   "source": [
    "'''Also formulate the edge list if needed based on the dependency heads'''\n",
    "edge_list = []\n",
    "for element in dep_head_list:\n",
    "    edge_list_element = []\n",
    "    for index in range(len(element)):\n",
    "        if element[index] != 0:\n",
    "            # symmetrize the edge list\n",
    "            edge_list_element.append([index, element[index]-1])\n",
    "            edge_list_element.append([element[index]-1, index])\n",
    "    edge_list.append(edge_list_element)\n",
    "\n",
    "with open('../embeddings/questions/' + str(subset) + '/edge_list_corrected.json', 'w') as f:\n",
    "    # indent=2 is not needed but makes the file human-readable\n",
    "    # if the data is nested\n",
    "    json.dump(edge_list, f)\n"
   ]
  },
  {
   "cell_type": "code",
   "execution_count": 7,
   "metadata": {},
   "outputs": [
    {
     "name": "stdout",
     "output_type": "stream",
     "text": [
      "[[1, 0], [0, 1], [2, 0], [0, 2], [3, 2], [2, 3], [4, 3], [3, 4], [5, 0], [0, 5]]\n"
     ]
    }
   ],
   "source": [
    "'''Displaying the first edge list'''\n",
    "with open('../embeddings/questions/' + str(subset) + '/edge_list_corrected.json', 'r') as f:\n",
    "    edge_list = json.load(f)\n",
    "\n",
    "print(edge_list[0])"
   ]
  },
  {
   "cell_type": "code",
   "execution_count": 8,
   "metadata": {},
   "outputs": [
    {
     "name": "stdout",
     "output_type": "stream",
     "text": [
      "Loading Glove-6b-300d Model:\n",
      "Done. Glove-6b-300d with a vocabulary of 399998 words was loaded!\n"
     ]
    }
   ],
   "source": [
    "'''Loading Glove'''\n",
    "import pandas as pd\n",
    "\n",
    "def load_glove_model(glove_file):\n",
    "    readable_name = \"-\".join(glove_file.rstrip('.txt').split('/')[-1].split(\".\")).capitalize()\n",
    "    print(f\"Loading {readable_name} Model:\")\n",
    "    df = pd.read_csv(glove_file, sep=\" \", quoting=3, header=None, index_col=0)\n",
    "    glove_model = {key: val.values for key, val in df.T.items()}\n",
    "    print(f\"Done. {readable_name} with a vocabulary of {len(glove_model)} words was loaded!\")\n",
    "    return glove_model\n",
    "\n",
    "glove_6b_300 = load_glove_model('../embeddings/glove/glove.6B.300d.txt')"
   ]
  },
  {
   "cell_type": "code",
   "execution_count": 9,
   "metadata": {},
   "outputs": [
    {
     "name": "stderr",
     "output_type": "stream",
     "text": [
      "/tmp/ipykernel_514784/14260044.py:28: UserWarning: Creating a tensor from a list of numpy.ndarrays is extremely slow. Please consider converting the list to a single numpy.ndarray with numpy.array() before converting to a tensor. (Triggered internally at  /opt/conda/conda-bld/pytorch_1659484806139/work/torch/csrc/utils/tensor_new.cpp:201.)\n",
      "  return torch.tensor(hidden_states)\n"
     ]
    },
    {
     "data": {
      "text/plain": [
       "torch.Size([6, 300])"
      ]
     },
     "execution_count": 9,
     "metadata": {},
     "output_type": "execute_result"
    }
   ],
   "source": [
    "'''Tokenize a sentence using a glove model, pass it through an LSTM and return the hidden state of each word'''\n",
    "import torch\n",
    "import torch.nn as nn\n",
    "import torch.nn.functional as F\n",
    "from tqdm import tqdm\n",
    "import nltk\n",
    "import numpy as np\n",
    "\n",
    "def sentence_to_hidden_state(sentence, glove_model, hidden_dim, batch_size):\n",
    "    # tokenize the sentence: words, punctuations are individual tokens\n",
    "    tokenized_sentence = nltk.word_tokenize(sentence)\n",
    "    # get the glove vectors for each word\n",
    "    glove_vectors = []\n",
    "    for word in tokenized_sentence:\n",
    "        if word in glove_model:\n",
    "            glove_vectors.append(glove_model[word])\n",
    "        else:\n",
    "            glove_vectors.append(glove_model['unk'])\n",
    "    # create the input tensor\n",
    "    input_tensor = torch.FloatTensor(np.array(glove_vectors))\n",
    "    # create the LSTM\n",
    "    lstm = nn.LSTM(300, hidden_dim)\n",
    "    # take the fractal sequence of the input tensor, i.e. first word, first and second word, first, second and third word, etc., pass it through the LSTM and save the hidden state of each word\n",
    "    hidden_states = []\n",
    "    for i in range(len(tokenized_sentence)):\n",
    "        hidden_state, _ = lstm(input_tensor[:i+1].unsqueeze(1))\n",
    "        hidden_states.append(hidden_state[-1].detach().numpy().squeeze())\n",
    "    return torch.tensor(hidden_states)\n",
    "\n",
    "'''Test the function'''\n",
    "sentence = \"This is a test sentence?\"\n",
    "hidden_states = sentence_to_hidden_state(sentence, glove_6b_300, 300, 1)\n",
    "hidden_states.shape"
   ]
  },
  {
   "cell_type": "code",
   "execution_count": 11,
   "metadata": {},
   "outputs": [
    {
     "name": "stdout",
     "output_type": "stream",
     "text": [
      "['tmod', 'partmod', 'cop', 'quantmod', 'ccomp', 'csubj', 'iobj', 'advmod', 'appos', 'acomp', 'amod', 'dobj', 'auxpass', 'xcomp', 'prt', 'root', 'possessive', 'pobj', 'parataxis', 'discourse', 'infmod', 'pcomp', 'prep', 'dep', 'mark', 'mwe', 'punct', 'cc', 'nsubjpass', 'rcmod', 'advcl', 'expl', 'neg', 'preconj', 'predet', 'det', 'aux', 'nn', 'number', 'conj', 'nsubj', 'csubjpass', 'npadvmod', 'num', 'poss']\n"
     ]
    }
   ],
   "source": [
    "import ast\n",
    "import itertools\n",
    "\n",
    "'''Finds the unique dependency labels generated by the LAL-parser'''\n",
    "with open('../embeddings/questions/' + str(100) + '/dependency_labels.txt', 'r') as f:\n",
    "    LAL_Parser_Labels = f.readlines()\n",
    "    LAL_Parser_Labels = [element.strip() for element in LAL_Parser_Labels]\n",
    "    LAL_Parser_Labels = [ast.literal_eval(element) for element in LAL_Parser_Labels]\n",
    "\n",
    "unique_labels = list(dict.fromkeys(\n",
    "    set(list(itertools.chain(*LAL_Parser_Labels)))))\n",
    "print(unique_labels)"
   ]
  },
  {
   "cell_type": "code",
   "execution_count": 12,
   "metadata": {},
   "outputs": [
    {
     "name": "stderr",
     "output_type": "stream",
     "text": [
      "100%|██████████| 8402/8402 [00:00<00:00, 133014.30it/s]\n"
     ]
    }
   ],
   "source": [
    "'''Assigns a unique integer to each dependency label based on the label's position in the unique_labels list'''\n",
    "\n",
    "label_to_int = []\n",
    "\n",
    "for dep_labels in tqdm(dep_label_list):\n",
    "    label_to_int.append([unique_labels.index(label) for label in dep_labels])"
   ]
  },
  {
   "cell_type": "code",
   "execution_count": 13,
   "metadata": {},
   "outputs": [
    {
     "name": "stderr",
     "output_type": "stream",
     "text": [
      "100%|██████████| 8402/8402 [01:10<00:00, 119.50it/s]\n"
     ]
    }
   ],
   "source": [
    "import numpy as np\n",
    "from tqdm import tqdm\n",
    "import pickle\n",
    "\n",
    "# save the node embeddings for all questions\n",
    "LSTM_node_embeddings = [sentence_to_hidden_state(question, glove_6b_300, 300, 1) for question in tqdm(questions)]\n",
    "\n",
    "'''Make all the LSTM node embeddings in the shape of 20x300 by padding with zeros'''\n",
    "\n",
    "LSTM_node_embeddings_padded = []\n",
    "for node_embedding in LSTM_node_embeddings:\n",
    "    if node_embedding.shape[0] < 20:\n",
    "        LSTM_node_embeddings_padded.append(\n",
    "            np.pad(node_embedding, ((0, 20-node_embedding.shape[0]), (0, 0)), 'constant'))\n",
    "    else:\n",
    "        LSTM_node_embeddings_padded.append(node_embedding[:20])\n",
    "\n",
    "'''Save the node embeddings in a pickle file'''\n",
    "with open('../embeddings/questions/' + str(subset) + '/LSTM_node_embeddings_corrected.pickle', 'wb') as f:\n",
    "    pickle.dump(LSTM_node_embeddings_padded, f)"
   ]
  },
  {
   "cell_type": "code",
   "execution_count": 14,
   "metadata": {},
   "outputs": [],
   "source": [
    "import pickle\n",
    "\n",
    "'''Load the node embeddings from the pickle file'''\n",
    "with open('../embeddings/questions/' + str(subset) + '/LSTM_node_embeddings_corrected.pickle', 'rb') as f:\n",
    "    LSTM_node_embeddings = pickle.load(f)"
   ]
  },
  {
   "cell_type": "code",
   "execution_count": 15,
   "metadata": {},
   "outputs": [
    {
     "data": {
      "text/plain": [
       "(20, 300)"
      ]
     },
     "execution_count": 15,
     "metadata": {},
     "output_type": "execute_result"
    }
   ],
   "source": [
    "LSTM_node_embeddings[0].shape"
   ]
  },
  {
   "cell_type": "code",
   "execution_count": 16,
   "metadata": {},
   "outputs": [],
   "source": [
    "# for each item in the edge list, if a node is less than 20, keep it, otherwise, discard it\n",
    "edge_list_padded = []\n",
    "for edge_list_entry in edge_list:\n",
    "    edge_list_padded_entry = []\n",
    "    for edge in edge_list_entry:\n",
    "        if edge[0] < 20 and edge[1] < 20:\n",
    "            edge_list_padded_entry.append(edge)\n",
    "    edge_list_padded.append(edge_list_padded_entry)"
   ]
  },
  {
   "cell_type": "code",
   "execution_count": 17,
   "metadata": {},
   "outputs": [],
   "source": [
    "# for each entry in the label_to_int list, if value is less than 20, keep it. Discard the rest\n",
    "label_to_int_padded = []\n",
    "for label in label_to_int:\n",
    "    if len(label) < 20:\n",
    "        label_to_int_padded.append(label)\n",
    "    else:\n",
    "        label_to_int_padded.append(label[:20])"
   ]
  },
  {
   "cell_type": "code",
   "execution_count": 18,
   "metadata": {},
   "outputs": [
    {
     "name": "stderr",
     "output_type": "stream",
     "text": [
      "100%|██████████| 8402/8402 [00:00<00:00, 29360.10it/s]\n"
     ]
    }
   ],
   "source": [
    "import torch\n",
    "import numpy as np\n",
    "from torch_geometric.data import Data\n",
    "from torch_geometric.loader import DataLoader\n",
    "from tqdm import tqdm\n",
    "\n",
    "'''Create a list of Data objects for each question where:\n",
    "    - x is the LSTM_node_embeddings\n",
    "    - edge_index is the edge list where they are contiguous\n",
    "    - edge_attr is label_to_int'''\n",
    "question_graphs = []\n",
    "for i in tqdm(range(len(questions))):\n",
    "    question_graphs.append(Data(x=torch.FloatTensor(LSTM_node_embeddings[i]), \n",
    "                                edge_index=torch.LongTensor(\n",
    "                                    edge_list_padded[i]).t().contiguous(),\n",
    "                                edge_attr=torch.LongTensor(label_to_int_padded[i])))\n",
    "\n",
    "'''Save the Data objects to a file'''\n",
    "import pickle\n",
    "\n",
    "with open('../embeddings/questions/' + str(subset) + '/question_graphs_corrected.pkl', 'wb') as f:\n",
    "    pickle.dump(question_graphs, f)"
   ]
  },
  {
   "cell_type": "code",
   "execution_count": 19,
   "metadata": {},
   "outputs": [
    {
     "data": {
      "text/plain": [
       "AttrView(store=Data(x=[20, 300], edge_index=[2, 10], edge_attr=[6]), attr=DataTensorAttr(group_name=None, attr_name=<FieldStatus.UNSET: 1>, index=<FieldStatus.UNSET: 1>))"
      ]
     },
     "execution_count": 19,
     "metadata": {},
     "output_type": "execute_result"
    }
   ],
   "source": [
    "'''Load the Data objects from the file'''\n",
    "import pickle\n",
    "\n",
    "# set the subset number\n",
    "subset = 1\n",
    "\n",
    "with open('../embeddings/questions/' + str(subset) + '/question_graphs_corrected.pkl', 'rb') as f:\n",
    "    question_graphs = pickle.load(f)\n",
    "\n",
    "question_graphs[0].view()"
   ]
  },
  {
   "cell_type": "code",
   "execution_count": 20,
   "metadata": {},
   "outputs": [
    {
     "data": {
      "image/png": "[encoded data removed]",
      "text/plain": [
       "<Figure size 640x480 with 1 Axes>"
      ]
     },
     "metadata": {},
     "output_type": "display_data"
    },
    {
     "data": {
      "text/plain": [
       "<Figure size 400x400 with 0 Axes>"
      ]
     },
     "metadata": {},
     "output_type": "display_data"
    }
   ],
   "source": [
    "'''Visualize the graph'''\n",
    "import networkx as nx\n",
    "import matplotlib.pyplot as plt\n",
    "from torch_geometric.utils import to_networkx\n",
    "\n",
    "def visualize_graph(graph):\n",
    "    G = to_networkx(graph)\n",
    "    # get a list of nodes in G where the corresponding node in the data object node is zero\n",
    "    zero_nodes = [node for node in G.nodes if graph.x[node].sum() == 0]\n",
    "    # remove the zero nodes from G\n",
    "    G.remove_nodes_from(zero_nodes)\n",
    "    # initialize the figure and axes | Note: This somehow gets around the \"TypeError: '_AxesStack' object is not callable\"\n",
    "    fig, ax = plt.subplots() \n",
    "    # draw the graph\n",
    "    nx.draw(G, ax=ax, with_labels=True)\n",
    "    # set the figure size 4x4\n",
    "    plt.figure(figsize=(4, 4))\n",
    "\n",
    "visualize_graph(question_graphs[0])"
   ]
  },
  {
   "cell_type": "code",
   "execution_count": 21,
   "metadata": {},
   "outputs": [],
   "source": [
    "# Progress bar\n",
    "from tqdm.notebook import tqdm\n",
    "\n",
    "# PyTorch\n",
    "import torch\n",
    "import torch.nn as nn\n",
    "import torch.nn.functional as F\n",
    "import torch.utils.data as data\n",
    "\n",
    "# Torchvision\n",
    "from torchvision import transforms\n",
    "# PyTorch Lightning\n",
    "import pytorch_lightning as pl\n",
    "\n",
    "\n",
    "class GATLayer(nn.Module):\n",
    "\n",
    "    def __init__(self, c_in, c_out, num_heads=1, concat_heads=True, alpha=0.2):\n",
    "        \"\"\"\n",
    "        Inputs:\n",
    "            c_in - Dimensionality of input features\n",
    "            c_out - Dimensionality of output features\n",
    "            num_heads - Number of heads, i.e. attention mechanisms to apply in parallel. The\n",
    "                        output features are equally split up over the heads if concat_heads=True.\n",
    "            concat_heads - If True, the output of the different heads is concatenated instead of averaged.\n",
    "            alpha - Negative slope of the LeakyReLU activation.\n",
    "        \"\"\"\n",
    "        super().__init__()\n",
    "        self.num_heads = num_heads\n",
    "        self.concat_heads = concat_heads\n",
    "        if self.concat_heads:\n",
    "            assert c_out % num_heads == 0, \"Number of output features must be a multiple of the count of heads.\"\n",
    "            c_out = c_out // num_heads\n",
    "\n",
    "        # Sub-modules and parameters needed in the layer\n",
    "        self.projection = nn.Linear(c_in, c_out * num_heads)\n",
    "        self.a = nn.Parameter(torch.Tensor(\n",
    "            num_heads, 2 * c_out))  # One per head\n",
    "        self.leakyrelu = nn.LeakyReLU(alpha)\n",
    "\n",
    "        # Initialization from the original implementation\n",
    "        nn.init.xavier_uniform_(self.projection.weight.data, gain=1.414)\n",
    "        nn.init.xavier_uniform_(self.a.data, gain=1.414)\n",
    "\n",
    "    def forward(self, node_feats, adj_matrix, print_attn_probs=False):\n",
    "        \"\"\"\n",
    "        Inputs:\n",
    "            node_feats - Input features of the node. Shape: [batch_size, c_in]\n",
    "            adj_matrix - Adjacency matrix including self-connections. Shape: [batch_size, num_nodes, num_nodes]\n",
    "            print_attn_probs - If True, the attention weights are printed during the forward pass (for debugging purposes)\n",
    "        \"\"\"\n",
    "        batch_size, num_nodes = node_feats.size(0), node_feats.size(1)\n",
    "\n",
    "        # Apply linear layer and sort nodes by head\n",
    "        node_feats = self.projection(node_feats)\n",
    "        node_feats = node_feats.view(batch_size, num_nodes, self.num_heads, -1)\n",
    "\n",
    "        # We need to calculate the attention logits for every edge in the adjacency matrix\n",
    "        # Doing this on all possible combinations of nodes is very expensive\n",
    "        # => Create a tensor of [W*h_i||W*h_j] with i and j being the indices of all edges\n",
    "        # Returns indices where the adjacency matrix is not 0 => edges\n",
    "        edges = adj_matrix.nonzero(as_tuple=False)\n",
    "        node_feats_flat = node_feats.view(\n",
    "            batch_size * num_nodes, self.num_heads, -1)\n",
    "        edge_indices_row = edges[:, 0] * num_nodes + edges[:, 1]\n",
    "        edge_indices_col = edges[:, 0] * num_nodes + edges[:, 2]\n",
    "        a_input = torch.cat([\n",
    "            torch.index_select(input=node_feats_flat,\n",
    "                               index=edge_indices_row, dim=0),\n",
    "            torch.index_select(input=node_feats_flat,\n",
    "                               index=edge_indices_col, dim=0)\n",
    "        ], dim=-1)  # Index select returns a tensor with node_feats_flat being indexed at the desired positions along dim=0\n",
    "\n",
    "        # Calculate attention MLP output (independent for each head)\n",
    "        attn_logits = torch.einsum('bhc,hc->bh', a_input, self.a)\n",
    "        attn_logits = self.leakyrelu(attn_logits)\n",
    "\n",
    "        # Map list of attention values back into a matrix\n",
    "        attn_matrix = attn_logits.new_zeros(\n",
    "            adj_matrix.shape+(self.num_heads,)).fill_(-9e15)\n",
    "        attn_matrix[adj_matrix[..., None].repeat(\n",
    "            1, 1, 1, self.num_heads) == 1] = attn_logits.reshape(-1)\n",
    "\n",
    "        # Weighted average of attention\n",
    "        attn_probs = F.softmax(attn_matrix, dim=2)\n",
    "        if print_attn_probs:\n",
    "            print(\"Attention probs\\n\", attn_probs.permute(0, 3, 1, 2))\n",
    "        node_feats = torch.einsum('bijh,bjhc->bihc', attn_probs, node_feats)\n",
    "\n",
    "        # If heads should be concatenated, we can do this by reshaping. Otherwise, take mean\n",
    "        if self.concat_heads:\n",
    "            node_feats = node_feats.reshape(batch_size, num_nodes, -1)\n",
    "        else:\n",
    "            node_feats = node_feats.mean(dim=2)\n",
    "\n",
    "        return node_feats"
   ]
  },
  {
   "cell_type": "code",
   "execution_count": 22,
   "metadata": {},
   "outputs": [],
   "source": [
    "'''For each question graph, convert the edge list into an adjacency matrix which now captures the updated padded node sizes.'''\n",
    "adj_list_padded = []\n",
    "\n",
    "for graph in question_graphs:\n",
    "    # Get the edge list and transpose it\n",
    "    edge_list = graph.edge_index.t()\n",
    "    # Get the number of nodes in the graph\n",
    "    num_nodes = graph.num_nodes\n",
    "    # initialize the adjacency matrix for the graph\n",
    "    adj_matrix_graph = [[0 for i in range(num_nodes)]\n",
    "                        for j in range(num_nodes)]\n",
    "    if len(edge_list) != 0:\n",
    "        for row, col in edge_list:\n",
    "            # if row and col are greater than 20, the we ignore them\n",
    "            if row < 20 and col < 20:\n",
    "                adj_matrix_graph[row][col] = 1\n",
    "    adj_list_padded.append(adj_matrix_graph)\n",
    "\n",
    "'''Save the adjacency matrices in a json file'''\n",
    "with open('../embeddings/questions/' + str(subset) + '/adj_list_padded_corrected.json', 'w') as f:\n",
    "    json.dump(adj_list_padded, f)\n"
   ]
  },
  {
   "cell_type": "code",
   "execution_count": 23,
   "metadata": {},
   "outputs": [
    {
     "name": "stdout",
     "output_type": "stream",
     "text": [
      "torch.Size([20, 300])\n",
      "torch.Size([20, 512])\n"
     ]
    }
   ],
   "source": [
    "'''Initialize the GAT layer with:\n",
    "- input dimension of 300 (the dimensionality of the node features)\n",
    "- output dimension of 512 (the dimensionality of the output features)\n",
    "- 4 attention heads\n",
    "- attention heads are not concatenated\n",
    "- alpha is set to 0.2\n",
    "Note: The features here are set from the GoG Paper'''\n",
    "\n",
    "gat_layer = GATLayer(c_in=300, c_out=512, num_heads=4, concat_heads=False, alpha=0.2)\n",
    "\n",
    "# testing the GAT layer with the first graph\n",
    "with torch.no_grad():\n",
    "    out_feats = gat_layer(node_feats=question_graphs[0].x.unsqueeze(0), adj_matrix= torch.tensor([adj_list_padded[0]]), print_attn_probs=False)\n",
    "\n",
    "print(question_graphs[0].x.squeeze().shape)\n",
    "print(out_feats.squeeze().shape)"
   ]
  },
  {
   "cell_type": "code",
   "execution_count": 24,
   "metadata": {},
   "outputs": [
    {
     "name": "stderr",
     "output_type": "stream",
     "text": [
      "100%|██████████| 8402/8402 [00:05<00:00, 1539.39it/s]\n"
     ]
    }
   ],
   "source": [
    "import torch\n",
    "from torch_geometric.data import Data\n",
    "from torch_geometric.loader import DataLoader\n",
    "from tqdm import tqdm\n",
    "import pickle\n",
    "\n",
    "'''Do this for all Question Graphs and save it to the Question Graph Attention List'''\n",
    "question_gat = question_graphs.copy()\n",
    "for i in tqdm(range(len(question_graphs))):\n",
    "    with torch.no_grad():\n",
    "        out_feats = gat_layer(node_feats=question_graphs[i].x.unsqueeze(0), adj_matrix= torch.tensor([adj_list_padded[i]]), print_attn_probs=False)\n",
    "    question_gat[i].x = out_feats.squeeze()\n",
    "\n",
    "'''Save the Question Graph Attention List to a pickle file'''\n",
    "with open('../embeddings/questions/' + str(subset) + '/question_gat_corrected.pkl', 'wb') as f:\n",
    "    pickle.dump(question_gat, f)"
   ]
  },
  {
   "cell_type": "code",
   "execution_count": 25,
   "metadata": {},
   "outputs": [
    {
     "name": "stderr",
     "output_type": "stream",
     "text": [
      "100%|██████████| 8402/8402 [00:08<00:00, 951.44it/s]\n"
     ]
    }
   ],
   "source": [
    "import dgl\n",
    "from dgl.nn import GlobalAttentionPooling\n",
    "\n",
    "# initialize the gate layer\n",
    "gate_nn = torch.nn.Linear(512, 1)\n",
    "# initialize the GlobalAttentionPooling layer\n",
    "gap = GlobalAttentionPooling(gate_nn)\n",
    "\n",
    "'''For each question graph, we need to convert it to a DGL graph and then apply the GlobalAttentionPooling layer'''\n",
    "question_GAP = []\n",
    "\n",
    "for i in tqdm(range(len(question_gat))):\n",
    "    # initialize an empty dgl graph containing lambda nodes\n",
    "    g = dgl.graph(([], []), num_nodes=question_gat[i].num_nodes)\n",
    "    # initialize the node features for the dgl graph where each node has 512 features\n",
    "    g_node_feats = question_gat[i].x\n",
    "    # add the edges to the dgl graph where edges are the edges from the pytorch geometric graph\n",
    "    g.add_edges(question_gat[i].edge_index[0], question_gat[i].edge_index[1])\n",
    "    # apply the GlobalAttentionPooling layer to the dgl graph\n",
    "    out = gap(g, g_node_feats)\n",
    "    # append the output to the history_GAP list\n",
    "    question_GAP.append(out.squeeze())\n",
    "\n",
    "'''Save the Question Graph Attention Pooling List to a pickle file in the proper directory'''\n",
    "with open('../embeddings/questions/' + str(subset) + '/question_GAP_corrected.pkl', 'wb') as f:\n",
    "    pickle.dump(question_GAP, f)\n"
   ]
  }
 ],
 "metadata": {
  "kernelspec": {
   "display_name": "Python 3.9.13 ('gnnVD')",
   "language": "python",
   "name": "python3"
  },
  "language_info": {
   "codemirror_mode": {
    "name": "ipython",
    "version": 3
   },
   "file_extension": ".py",
   "mimetype": "text/x-python",
   "name": "python",
   "nbconvert_exporter": "python",
   "pygments_lexer": "ipython3",
   "version": "3.9.13"
  },
  "orig_nbformat": 4,
  "vscode": {
   "interpreter": {
    "hash": "b0f314d012c094e500b437d772ea9d63f13832a9dbf30d5ab8fe744ae8c413d0"
   }
  }
 },
 "nbformat": 4,
 "nbformat_minor": 2
}
