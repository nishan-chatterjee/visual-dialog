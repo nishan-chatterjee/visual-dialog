{
 "cells": [
  {
   "cell_type": "code",
   "execution_count": 1,
   "metadata": {},
   "outputs": [],
   "source": [
    "'''Since all the Dependency Heads, the Dependency Labels, and the Linearized Constituency Trees are generated in batches of 10000,\n",
    "we need to concatenate those files.'''\n",
    "\n",
    "import shutil\n",
    "import glob\n",
    "from natsort import natsorted\n",
    "\n",
    "def concatenate_files(target_files, output_file):\n",
    "    with open(output_file, 'wb') as outfile:\n",
    "        for filename in natsorted(glob.glob(target_files)): # natsorted is used to sort the files in a natural way\n",
    "            if filename == output_file:\n",
    "                # don't want to copy the output into the output\n",
    "                continue\n",
    "            with open(filename, 'rb') as read_file:\n",
    "                shutil.copyfileobj(read_file, outfile)\n",
    "\n",
    "# for the dependency heads\n",
    "target_files = '../models/questions/parsed/dependency_heads/*.txt'\n",
    "output_file = '../models/questions/parsed/dependency_heads.txt'\n",
    "concatenate_files(target_files, output_file)\n",
    "\n",
    "# for the dependency labels\n",
    "target_files = '../models/questions/parsed/dependency_labels/*.txt'\n",
    "output_file = '../models/questions/parsed/dependency_labels.txt'\n",
    "concatenate_files(target_files, output_file)\n",
    "\n",
    "# for the linearized constituency trees\n",
    "target_files = '../models/questions/parsed/linearized_constituency_tree/*.txt'\n",
    "output_file = '../models/questions/parsed/linearized_constituency_tree.txt'\n",
    "concatenate_files(target_files, output_file)\n"
   ]
  },
  {
   "cell_type": "code",
   "execution_count": 2,
   "metadata": {},
   "outputs": [
    {
     "data": {
      "text/plain": [
       "[2, 6, 6, 6, 6, 0]"
      ]
     },
     "execution_count": 2,
     "metadata": {},
     "output_type": "execute_result"
    }
   ],
   "source": [
    "'''Here we read the Dependency Heads'''\n",
    "from pathlib import Path\n",
    "import ast\n",
    "\n",
    "with open('../models/questions/parsed/dependency_heads.txt', 'r') as f:\n",
    "    dep_head_list = f.readlines()\n",
    "\n",
    "dep_head_list = [element.strip() for element in dep_head_list]\n",
    "dep_head_list = [ast.literal_eval(element) for element in dep_head_list]\n",
    "\n",
    "dep_head_list[0]\n"
   ]
  },
  {
   "cell_type": "code",
   "execution_count": 3,
   "metadata": {},
   "outputs": [
    {
     "data": {
      "text/plain": [
       "['det', 'dep', 'cop', 'det', 'amod', 'nsubj']"
      ]
     },
     "execution_count": 3,
     "metadata": {},
     "output_type": "execute_result"
    }
   ],
   "source": [
    "with open('../models/questions/parsed/dependency_labels.txt', 'r') as f:\n",
    "    dep_label_list = f.readlines()\n",
    "\n",
    "dep_label_list = [element.strip() for element in dep_label_list]\n",
    "dep_label_list = [ast.literal_eval(element) for element in dep_label_list]\n",
    "\n",
    "dep_label_list[0]\n"
   ]
  },
  {
   "cell_type": "code",
   "execution_count": 4,
   "metadata": {},
   "outputs": [
    {
     "data": {
      "text/plain": [
       "[[0, 1, 0, 0, 0, 0],\n",
       " [0, 0, 0, 0, 0, 1],\n",
       " [0, 0, 0, 0, 0, 1],\n",
       " [0, 0, 0, 0, 0, 1],\n",
       " [0, 0, 0, 0, 0, 1],\n",
       " [0, 0, 0, 0, 0, 0]]"
      ]
     },
     "execution_count": 4,
     "metadata": {},
     "output_type": "execute_result"
    }
   ],
   "source": [
    "'''Formulate the adjacency list based on the dependency heads and save it to a file'''\n",
    "import json\n",
    "\n",
    "adj_list = []\n",
    "for element in dep_head_list:\n",
    "    adj_list_element = []\n",
    "    for index in element:\n",
    "        adj_list_node = len(element)*[0]\n",
    "        if index != 0:\n",
    "            adj_list_node[index-1] = 1\n",
    "        adj_list_element.append(adj_list_node)\n",
    "\n",
    "    adj_list.append(adj_list_element)\n",
    "\n",
    "with open(\"../models/questions/graphs/init_adj_list.json\", 'w') as f:\n",
    "    # indent=2 is not needed but makes the file human-readable \n",
    "    # if the data is nested\n",
    "    json.dump(adj_list, f, indent=2) \n",
    "\n",
    "'''Displaying the first adjacency matrix'''\n",
    "with open(\"../models/questions/graphs/init_adj_list.json\", 'r') as f:\n",
    "    loaded_adj_list = json.load(f)\n",
    "\n",
    "loaded_adj_list[0]"
   ]
  },
  {
   "cell_type": "code",
   "execution_count": 5,
   "metadata": {},
   "outputs": [
    {
     "name": "stdout",
     "output_type": "stream",
     "text": [
      "[[0, 1], [1, 5], [2, 5], [3, 5], [4, 5]]\n"
     ]
    }
   ],
   "source": [
    "'''Also formulate the edge list if needed based on the dependency heads'''\n",
    "edge_list = []\n",
    "for element in dep_head_list:\n",
    "    edge_list_element = []\n",
    "    for index in range(len(element)):\n",
    "        if element[index] != 0:\n",
    "            edge_list_element.append([index, element[index]-1])\n",
    "    edge_list.append(edge_list_element)\n",
    "\n",
    "with open(\"../models/questions/graphs/init_edge_list.json\", 'w') as f:\n",
    "    # indent=2 is not needed but makes the file human-readable \n",
    "    # if the data is nested\n",
    "    json.dump(edge_list, f, indent=2) \n",
    "\n",
    "'''Displaying the first edge list'''\n",
    "with open(\"../models/questions/graphs/init_edge_list.json\", 'r') as f:\n",
    "    loaded_edge_list = json.load(f)\n",
    "\n",
    "print(loaded_edge_list[0])"
   ]
  },
  {
   "cell_type": "code",
   "execution_count": 6,
   "metadata": {},
   "outputs": [
    {
     "data": {
      "text/plain": [
       "['what', 'color', 'is', 'the', 'middle', 'vase']"
      ]
     },
     "execution_count": 6,
     "metadata": {},
     "output_type": "execute_result"
    }
   ],
   "source": [
    "import torch\n",
    "from torchtext.data import get_tokenizer\n",
    "from torchtext.vocab import GloVe\n",
    "import numpy as np\n",
    "\n",
    "# load questions\n",
    "questions = json.load(open('../data/v1.0/visdial_1.0_train.json'))['data']['questions']\n",
    "\n",
    "tokenizer = get_tokenizer(\"basic_english\") # use basic_english tokenizer\n",
    "tokenizer(questions[0])"
   ]
  },
  {
   "cell_type": "code",
   "execution_count": 11,
   "metadata": {},
   "outputs": [
    {
     "data": {
      "image/png": "[encoded data removed]",
      "text/plain": [
       "<Figure size 432x288 with 1 Axes>"
      ]
     },
     "metadata": {},
     "output_type": "display_data"
    }
   ],
   "source": [
    "import networkx as nx\n",
    "import matplotlib.pyplot as plt\n",
    "\n",
    "def pruned_question_graph(question_index):\n",
    "    G = nx.DiGraph()\n",
    "\n",
    "    label_mappings = dict(zip(list(range(len(\n",
    "        tokenizer(questions[question_index])))), tokenizer(questions[question_index])))\n",
    "    edge_mappings = dict(\n",
    "        zip(list(map(tuple, edge_list[question_index])), dep_label_list[question_index]))\n",
    "\n",
    "    G.add_edges_from(edge_list[question_index])\n",
    "    pos = nx.spring_layout(G)\n",
    "    nx.draw(G, pos, labels=label_mappings, edge_color='black', width=1,\n",
    "            linewidths=1, node_size=1000, node_color='pink', alpha=0.9, with_labels=True)\n",
    "    nx.draw_networkx_edge_labels(\n",
    "        G, pos, edge_labels=edge_mappings, font_color='red')\n",
    "    plt.axis('off')\n",
    "    plt.show()\n",
    "\n",
    "\n",
    "pruned_question_graph(1)\n"
   ]
  },
  {
   "cell_type": "markdown",
   "metadata": {},
   "source": [
    "Graph Attention:\n",
    "\n",
    "s_{ij}=\\frac{(U_{i}u_{i})^{T}.V_{j}u_{j}}{\\sqrt{d_{u}}}\n",
    "\n"
   ]
  }
 ],
 "metadata": {
  "kernelspec": {
   "display_name": "gnnVD",
   "language": "python",
   "name": "python3"
  },
  "language_info": {
   "codemirror_mode": {
    "name": "ipython",
    "version": 3
   },
   "file_extension": ".py",
   "mimetype": "text/x-python",
   "name": "python",
   "nbconvert_exporter": "python",
   "pygments_lexer": "ipython3",
   "version": "3.9.13 | packaged by conda-forge | (main, May 27 2022, 16:58:50) \n[GCC 10.3.0]"
  },
  "orig_nbformat": 4,
  "vscode": {
   "interpreter": {
    "hash": "b0f314d012c094e500b437d772ea9d63f13832a9dbf30d5ab8fe744ae8c413d0"
   }
  }
 },
 "nbformat": 4,
 "nbformat_minor": 2
}
